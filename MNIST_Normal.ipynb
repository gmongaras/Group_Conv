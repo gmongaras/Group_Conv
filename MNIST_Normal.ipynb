{
 "cells": [
  {
   "cell_type": "code",
   "execution_count": 1,
   "id": "abc72de5-b881-4080-a4b7-f73c69c476dc",
   "metadata": {
    "tags": []
   },
   "outputs": [],
   "source": [
    "import torch\n",
    "from torch import nn\n",
    "import torchvision\n",
    "from torch.utils.data.dataloader import DataLoader"
   ]
  },
  {
   "cell_type": "code",
   "execution_count": 2,
   "id": "256475a4-78ee-4371-909c-76f133190c6a",
   "metadata": {},
   "outputs": [],
   "source": [
    "device = torch.device(\"cuda:0\")"
   ]
  },
  {
   "cell_type": "code",
   "execution_count": 3,
   "id": "e46d865a-54f6-43b0-92a3-7918ec133a34",
   "metadata": {
    "tags": []
   },
   "outputs": [],
   "source": [
    "# Used to transform the data to a transor\n",
    "transform = torchvision.transforms.Compose(\n",
    "    [\n",
    "        # Transform to a tensor\n",
    "        torchvision.transforms.ToTensor(),\n",
    "    ]\n",
    ")"
   ]
  },
  {
   "cell_type": "code",
   "execution_count": 4,
   "id": "bb05fdde-fd50-4d9e-a61e-48ae882238d7",
   "metadata": {
    "tags": []
   },
   "outputs": [],
   "source": [
    "# Load in MNIST\n",
    "MNIST_dataset = torchvision.datasets.MNIST(\"./\", train=True, transform=transform, download=True)"
   ]
  },
  {
   "cell_type": "code",
   "execution_count": 12,
   "id": "bcca6dcf-d7d3-4051-af13-354a28ed2241",
   "metadata": {
    "tags": []
   },
   "outputs": [],
   "source": [
    "# Used to load in the dataset\n",
    "data_loader = DataLoader(MNIST_dataset, batch_size=256,\n",
    "        pin_memory=True, num_workers=1, \n",
    "        drop_last=False, shuffle=True\n",
    "    )"
   ]
  },
  {
   "cell_type": "code",
   "execution_count": 23,
   "id": "0bf00370-6a56-44e6-a847-6173cd8f89ef",
   "metadata": {
    "tags": []
   },
   "outputs": [],
   "source": [
    "# Model with 1x28x28 input and 10 output\n",
    "class Model(nn.Module):\n",
    "    def __init__(self, device):\n",
    "        super(Model, self).__init__()\n",
    "        \n",
    "        # convolution layers\n",
    "        self.convs = nn.Sequential( # 1x28x28\n",
    "            nn.Conv2d(1, 32, 5), # 32x24x24\n",
    "            nn.ReLU(),\n",
    "            \n",
    "            nn.Conv2d(32, 32, 5), # 32x20x20\n",
    "            nn.ReLU(),\n",
    "            nn.MaxPool2d(2), # 64x10x10\n",
    "            \n",
    "            nn.Conv2d(32, 64, 5), # 64x6x6\n",
    "            nn.ReLU(),\n",
    "            nn.MaxPool2d(2), # 64x3x3\n",
    "            \n",
    "            nn.Flatten(1, -1), # 3*3*64\n",
    "            nn.Linear(3*3*64, 256), # 256\n",
    "            nn.ReLU(),\n",
    "            nn.Linear(256, 10), # 10\n",
    "            nn.LogSoftmax(-1)\n",
    "        ).to(device)\n",
    "        \n",
    "    def forward(self, X):\n",
    "        return self.convs(X)"
   ]
  },
  {
   "cell_type": "code",
   "execution_count": 24,
   "id": "c9f4a957-d80b-4bcf-af41-bc72a34eb2c1",
   "metadata": {
    "tags": []
   },
   "outputs": [],
   "source": [
    "# Create the model\n",
    "model = Model(device)"
   ]
  },
  {
   "cell_type": "code",
   "execution_count": 25,
   "id": "02308a27-a0ee-4ee3-8593-0b1b15bce8f9",
   "metadata": {
    "tags": []
   },
   "outputs": [],
   "source": [
    "# Optimizer\n",
    "optim = torch.optim.AdamW(model.parameters())"
   ]
  },
  {
   "cell_type": "code",
   "execution_count": 26,
   "id": "e26cd6de-94f4-457f-95bc-af26a7592eca",
   "metadata": {
    "tags": []
   },
   "outputs": [],
   "source": [
    "# Loss function\n",
    "loss_funct = nn.CrossEntropyLoss()"
   ]
  },
  {
   "cell_type": "code",
   "execution_count": 27,
   "id": "d65abbef-9e38-4405-9666-9c93ef688236",
   "metadata": {
    "scrolled": true,
    "tags": []
   },
   "outputs": [
    {
     "name": "stdout",
     "output_type": "stream",
     "text": [
      "Epoch 0: 0.08258404582738876\n",
      "Epoch 1: 0.04608510434627533\n",
      "Epoch 2: 0.05246753990650177\n",
      "Epoch 3: 0.006525761913508177\n",
      "Epoch 4: 0.011287428438663483\n",
      "Epoch 5: 0.03101402521133423\n",
      "Epoch 6: 0.05616789683699608\n",
      "Epoch 7: 0.017455078661441803\n",
      "Epoch 8: 0.0007231218623928726\n",
      "Epoch 9: 0.0005497061065398157\n"
     ]
    }
   ],
   "source": [
    "# Training loop\n",
    "epochs = 10\n",
    "steps = 0\n",
    "for epoch in range(0, epochs):\n",
    "    # Iterate over all data\n",
    "    for X,labels in data_loader:\n",
    "        # Send the data through the model\n",
    "        y_hat = model(X.to(device))\n",
    "        \n",
    "        # Get the loss\n",
    "        loss = loss_funct(y_hat, labels.to(device))\n",
    "        \n",
    "        # Backprop the loss\n",
    "        loss.backward()\n",
    "        \n",
    "        # Update model\n",
    "        optim.step()\n",
    "        optim.zero_grad()\n",
    "        steps += 1\n",
    "    print(f\"Epoch {epoch}: {loss.detach().item()}\")"
   ]
  },
  {
   "cell_type": "code",
   "execution_count": null,
   "id": "5ef8a283-e3f4-45e8-96c3-a032cadde8cd",
   "metadata": {},
   "outputs": [],
   "source": []
  }
 ],
 "metadata": {
  "kernelspec": {
   "display_name": "Python 3 (ipykernel)",
   "language": "python",
   "name": "python3"
  },
  "language_info": {
   "codemirror_mode": {
    "name": "ipython",
    "version": 3
   },
   "file_extension": ".py",
   "mimetype": "text/x-python",
   "name": "python",
   "nbconvert_exporter": "python",
   "pygments_lexer": "ipython3",
   "version": "3.9.15"
  }
 },
 "nbformat": 4,
 "nbformat_minor": 5
}
