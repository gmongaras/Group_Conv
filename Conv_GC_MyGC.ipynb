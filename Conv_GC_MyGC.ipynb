{
 "cells": [
  {
   "cell_type": "code",
   "execution_count": 1,
   "id": "d120af14-b991-49e8-826a-d2df9717eecc",
   "metadata": {},
   "outputs": [],
   "source": [
    "import torch\n",
    "from torch import nn\n",
    "from Group_Conv import Group_Conv"
   ]
  },
  {
   "cell_type": "code",
   "execution_count": 2,
   "id": "db9cfa1f-efcb-42ae-9c8a-f5ecb7c5fdee",
   "metadata": {},
   "outputs": [],
   "source": [
    "# Let's define some parameters\n",
    "inCh = 10\n",
    "outCh = 100\n",
    "kernel_size = 5"
   ]
  },
  {
   "cell_type": "code",
   "execution_count": 7,
   "id": "3ff2d59c-da02-46bf-81bd-4b0b5489c2d0",
   "metadata": {},
   "outputs": [],
   "source": [
    "# Number of model parameters\n",
    "def count_parameters(model):\n",
    "    return sum(p.numel() for p in model.parameters() if p.requires_grad)"
   ]
  },
  {
   "cell_type": "code",
   "execution_count": 14,
   "id": "a853b723-8fb9-4ea1-af4f-9d43a83597af",
   "metadata": {},
   "outputs": [],
   "source": [
    "# Let's see what happens with 1 group\n",
    "num_groups = 1\n",
    "conv = nn.Conv2d(inCh, outCh, kernel_size)\n",
    "conv_GC = nn.Conv2d(inCh, outCh, kernel_size, groups=num_groups)\n",
    "conv_M = Group_Conv(inCh, outCh, kernel_size, sub_size=inCh//num_groups)"
   ]
  },
  {
   "cell_type": "code",
   "execution_count": 15,
   "id": "4bd2f5cc-44db-4ec8-91eb-d4652f291836",
   "metadata": {},
   "outputs": [
    {
     "name": "stdout",
     "output_type": "stream",
     "text": [
      "Conv params: 25100\n",
      "Group Conv params: 25100\n",
      "My Conv params: 25100\n"
     ]
    }
   ],
   "source": [
    "# Numbers of parameters. Thye should be equal\n",
    "print(f\"Conv params: {count_parameters(conv)}\")\n",
    "print(f\"Group Conv params: {count_parameters(conv_GC)}\")\n",
    "print(f\"My Conv params: {count_parameters(conv_M)}\")"
   ]
  },
  {
   "cell_type": "code",
   "execution_count": null,
   "id": "df96dbed-500f-4218-aecc-e83489e83c92",
   "metadata": {},
   "outputs": [],
   "source": []
  },
  {
   "cell_type": "code",
   "execution_count": 22,
   "id": "7db1492b-05cb-4932-ab9c-f9fd103995f6",
   "metadata": {},
   "outputs": [],
   "source": [
    "# Let's see what happens with 2 groups\n",
    "num_groups = 2\n",
    "conv = nn.Conv2d(inCh, outCh, kernel_size)\n",
    "conv_GC = nn.Conv2d(inCh, outCh, kernel_size, groups=num_groups)\n",
    "conv_M = Group_Conv(inCh, outCh, kernel_size, sub_size=inCh//num_groups)"
   ]
  },
  {
   "cell_type": "code",
   "execution_count": 23,
   "id": "f8852b71-1954-442a-b047-9466752cc708",
   "metadata": {},
   "outputs": [
    {
     "name": "stdout",
     "output_type": "stream",
     "text": [
      "Conv params: 25100\n",
      "Group Conv params: 12600\n",
      "My Conv params: 12600\n"
     ]
    }
   ],
   "source": [
    "# Numbers of parameters.\n",
    "print(f\"Conv params: {count_parameters(conv)}\")\n",
    "print(f\"Group Conv params: {count_parameters(conv_GC)}\")\n",
    "print(f\"My Conv params: {count_parameters(conv_M)}\")"
   ]
  },
  {
   "cell_type": "code",
   "execution_count": null,
   "id": "1bad3f1e-49c2-42c7-b2a8-21e1ce4b0330",
   "metadata": {},
   "outputs": [],
   "source": []
  },
  {
   "cell_type": "code",
   "execution_count": null,
   "id": "8b1217e0-3319-442f-ae89-453047c1bce5",
   "metadata": {},
   "outputs": [],
   "source": []
  },
  {
   "cell_type": "code",
   "execution_count": 24,
   "id": "e309772f-1355-441b-8d4c-b33a053f4112",
   "metadata": {},
   "outputs": [],
   "source": [
    "# Let's see what happens with 10 groups\n",
    "num_groups = 10\n",
    "conv = nn.Conv2d(inCh, outCh, kernel_size)\n",
    "conv_GC = nn.Conv2d(inCh, outCh, kernel_size, groups=num_groups)\n",
    "conv_M = Group_Conv(inCh, outCh, kernel_size, sub_size=inCh//num_groups)"
   ]
  },
  {
   "cell_type": "code",
   "execution_count": 25,
   "id": "92d4650c-46ae-43cd-8a30-f2e11386b968",
   "metadata": {},
   "outputs": [
    {
     "name": "stdout",
     "output_type": "stream",
     "text": [
      "Conv params: 25100\n",
      "Group Conv params: 2600\n",
      "My Conv params: 2600\n"
     ]
    }
   ],
   "source": [
    "# Numbers of parameters.\n",
    "print(f\"Conv params: {count_parameters(conv)}\")\n",
    "print(f\"Group Conv params: {count_parameters(conv_GC)}\")\n",
    "print(f\"My Conv params: {count_parameters(conv_M)}\")"
   ]
  },
  {
   "cell_type": "code",
   "execution_count": null,
   "id": "141f34f9-8b3e-4f9f-8735-b089321926ac",
   "metadata": {},
   "outputs": [],
   "source": []
  }
 ],
 "metadata": {
  "kernelspec": {
   "display_name": "Python 3 (ipykernel)",
   "language": "python",
   "name": "python3"
  },
  "language_info": {
   "codemirror_mode": {
    "name": "ipython",
    "version": 3
   },
   "file_extension": ".py",
   "mimetype": "text/x-python",
   "name": "python",
   "nbconvert_exporter": "python",
   "pygments_lexer": "ipython3",
   "version": "3.9.15"
  }
 },
 "nbformat": 4,
 "nbformat_minor": 5
}
